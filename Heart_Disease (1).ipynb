{
  "nbformat": 4,
  "nbformat_minor": 0,
  "metadata": {
    "colab": {
      "provenance": []
    },
    "kernelspec": {
      "name": "python3",
      "display_name": "Python 3"
    },
    "language_info": {
      "name": "python"
    }
  },
  "cells": [
    {
      "cell_type": "markdown",
      "source": [
        "#Project ML1 predict_students_dropout_and_academic_success\n",
        "---\n",
        "\n",
        "\n",
        "\n",
        "\n"
      ],
      "metadata": {
        "id": "VkujdoQchvbw"
      }
    },
    {
      "cell_type": "markdown",
      "source": [
        "##1-Loading Important Libraries:\n",
        "\n"
      ],
      "metadata": {
        "id": "HidBFOWKh9BQ"
      }
    },
    {
      "cell_type": "code",
      "source": [
        "!pip install ucimlrepo\n",
        "!pip install dash\n",
        "!pip install dash-bootstrap-components\n",
        "!pip install dash-table\n"
      ],
      "metadata": {
        "colab": {
          "base_uri": "https://localhost:8080/"
        },
        "id": "1aW1WBvWFLMI",
        "outputId": "b415e0df-2ee8-4f17-d35e-09d8e5eebb74"
      },
      "execution_count": null,
      "outputs": [
        {
          "output_type": "stream",
          "name": "stdout",
          "text": [
            "Collecting ucimlrepo\n",
            "  Downloading ucimlrepo-0.0.3-py3-none-any.whl (7.0 kB)\n",
            "Installing collected packages: ucimlrepo\n",
            "Successfully installed ucimlrepo-0.0.3\n",
            "Collecting dash\n",
            "  Downloading dash-2.15.0-py3-none-any.whl (10.2 MB)\n",
            "\u001b[2K     \u001b[90m━━━━━━━━━━━━━━━━━━━━━━━━━━━━━━━━━━━━━━━━\u001b[0m \u001b[32m10.2/10.2 MB\u001b[0m \u001b[31m20.3 MB/s\u001b[0m eta \u001b[36m0:00:00\u001b[0m\n",
            "\u001b[?25hRequirement already satisfied: Flask<3.1,>=1.0.4 in /usr/local/lib/python3.10/dist-packages (from dash) (2.2.5)\n",
            "Requirement already satisfied: Werkzeug<3.1 in /usr/local/lib/python3.10/dist-packages (from dash) (3.0.1)\n",
            "Requirement already satisfied: plotly>=5.0.0 in /usr/local/lib/python3.10/dist-packages (from dash) (5.15.0)\n",
            "Collecting dash-html-components==2.0.0 (from dash)\n",
            "  Downloading dash_html_components-2.0.0-py3-none-any.whl (4.1 kB)\n",
            "Collecting dash-core-components==2.0.0 (from dash)\n",
            "  Downloading dash_core_components-2.0.0-py3-none-any.whl (3.8 kB)\n",
            "Collecting dash-table==5.0.0 (from dash)\n",
            "  Downloading dash_table-5.0.0-py3-none-any.whl (3.9 kB)\n",
            "Requirement already satisfied: typing-extensions>=4.1.1 in /usr/local/lib/python3.10/dist-packages (from dash) (4.9.0)\n",
            "Requirement already satisfied: requests in /usr/local/lib/python3.10/dist-packages (from dash) (2.31.0)\n",
            "Collecting retrying (from dash)\n",
            "  Downloading retrying-1.3.4-py3-none-any.whl (11 kB)\n",
            "Requirement already satisfied: nest-asyncio in /usr/local/lib/python3.10/dist-packages (from dash) (1.6.0)\n",
            "Requirement already satisfied: setuptools in /usr/local/lib/python3.10/dist-packages (from dash) (67.7.2)\n",
            "Requirement already satisfied: importlib-metadata in /usr/local/lib/python3.10/dist-packages (from dash) (7.0.1)\n",
            "Requirement already satisfied: Jinja2>=3.0 in /usr/local/lib/python3.10/dist-packages (from Flask<3.1,>=1.0.4->dash) (3.1.3)\n",
            "Requirement already satisfied: itsdangerous>=2.0 in /usr/local/lib/python3.10/dist-packages (from Flask<3.1,>=1.0.4->dash) (2.1.2)\n",
            "Requirement already satisfied: click>=8.0 in /usr/local/lib/python3.10/dist-packages (from Flask<3.1,>=1.0.4->dash) (8.1.7)\n",
            "Requirement already satisfied: tenacity>=6.2.0 in /usr/local/lib/python3.10/dist-packages (from plotly>=5.0.0->dash) (8.2.3)\n",
            "Requirement already satisfied: packaging in /usr/local/lib/python3.10/dist-packages (from plotly>=5.0.0->dash) (23.2)\n",
            "Requirement already satisfied: MarkupSafe>=2.1.1 in /usr/local/lib/python3.10/dist-packages (from Werkzeug<3.1->dash) (2.1.5)\n",
            "Requirement already satisfied: zipp>=0.5 in /usr/local/lib/python3.10/dist-packages (from importlib-metadata->dash) (3.17.0)\n",
            "Requirement already satisfied: charset-normalizer<4,>=2 in /usr/local/lib/python3.10/dist-packages (from requests->dash) (3.3.2)\n",
            "Requirement already satisfied: idna<4,>=2.5 in /usr/local/lib/python3.10/dist-packages (from requests->dash) (3.6)\n",
            "Requirement already satisfied: urllib3<3,>=1.21.1 in /usr/local/lib/python3.10/dist-packages (from requests->dash) (2.0.7)\n",
            "Requirement already satisfied: certifi>=2017.4.17 in /usr/local/lib/python3.10/dist-packages (from requests->dash) (2024.2.2)\n",
            "Requirement already satisfied: six>=1.7.0 in /usr/local/lib/python3.10/dist-packages (from retrying->dash) (1.16.0)\n",
            "Installing collected packages: dash-table, dash-html-components, dash-core-components, retrying, dash\n",
            "Successfully installed dash-2.15.0 dash-core-components-2.0.0 dash-html-components-2.0.0 dash-table-5.0.0 retrying-1.3.4\n",
            "Collecting dash-bootstrap-components\n",
            "  Downloading dash_bootstrap_components-1.5.0-py3-none-any.whl (221 kB)\n",
            "\u001b[2K     \u001b[90m━━━━━━━━━━━━━━━━━━━━━━━━━━━━━━━━━━━━━━━━\u001b[0m \u001b[32m221.2/221.2 kB\u001b[0m \u001b[31m2.8 MB/s\u001b[0m eta \u001b[36m0:00:00\u001b[0m\n",
            "\u001b[?25hRequirement already satisfied: dash>=2.0.0 in /usr/local/lib/python3.10/dist-packages (from dash-bootstrap-components) (2.15.0)\n",
            "Requirement already satisfied: Flask<3.1,>=1.0.4 in /usr/local/lib/python3.10/dist-packages (from dash>=2.0.0->dash-bootstrap-components) (2.2.5)\n",
            "Requirement already satisfied: Werkzeug<3.1 in /usr/local/lib/python3.10/dist-packages (from dash>=2.0.0->dash-bootstrap-components) (3.0.1)\n",
            "Requirement already satisfied: plotly>=5.0.0 in /usr/local/lib/python3.10/dist-packages (from dash>=2.0.0->dash-bootstrap-components) (5.15.0)\n",
            "Requirement already satisfied: dash-html-components==2.0.0 in /usr/local/lib/python3.10/dist-packages (from dash>=2.0.0->dash-bootstrap-components) (2.0.0)\n",
            "Requirement already satisfied: dash-core-components==2.0.0 in /usr/local/lib/python3.10/dist-packages (from dash>=2.0.0->dash-bootstrap-components) (2.0.0)\n",
            "Requirement already satisfied: dash-table==5.0.0 in /usr/local/lib/python3.10/dist-packages (from dash>=2.0.0->dash-bootstrap-components) (5.0.0)\n",
            "Requirement already satisfied: typing-extensions>=4.1.1 in /usr/local/lib/python3.10/dist-packages (from dash>=2.0.0->dash-bootstrap-components) (4.9.0)\n",
            "Requirement already satisfied: requests in /usr/local/lib/python3.10/dist-packages (from dash>=2.0.0->dash-bootstrap-components) (2.31.0)\n",
            "Requirement already satisfied: retrying in /usr/local/lib/python3.10/dist-packages (from dash>=2.0.0->dash-bootstrap-components) (1.3.4)\n",
            "Requirement already satisfied: nest-asyncio in /usr/local/lib/python3.10/dist-packages (from dash>=2.0.0->dash-bootstrap-components) (1.6.0)\n",
            "Requirement already satisfied: setuptools in /usr/local/lib/python3.10/dist-packages (from dash>=2.0.0->dash-bootstrap-components) (67.7.2)\n",
            "Requirement already satisfied: importlib-metadata in /usr/local/lib/python3.10/dist-packages (from dash>=2.0.0->dash-bootstrap-components) (7.0.1)\n",
            "Requirement already satisfied: Jinja2>=3.0 in /usr/local/lib/python3.10/dist-packages (from Flask<3.1,>=1.0.4->dash>=2.0.0->dash-bootstrap-components) (3.1.3)\n",
            "Requirement already satisfied: itsdangerous>=2.0 in /usr/local/lib/python3.10/dist-packages (from Flask<3.1,>=1.0.4->dash>=2.0.0->dash-bootstrap-components) (2.1.2)\n",
            "Requirement already satisfied: click>=8.0 in /usr/local/lib/python3.10/dist-packages (from Flask<3.1,>=1.0.4->dash>=2.0.0->dash-bootstrap-components) (8.1.7)\n",
            "Requirement already satisfied: tenacity>=6.2.0 in /usr/local/lib/python3.10/dist-packages (from plotly>=5.0.0->dash>=2.0.0->dash-bootstrap-components) (8.2.3)\n",
            "Requirement already satisfied: packaging in /usr/local/lib/python3.10/dist-packages (from plotly>=5.0.0->dash>=2.0.0->dash-bootstrap-components) (23.2)\n",
            "Requirement already satisfied: MarkupSafe>=2.1.1 in /usr/local/lib/python3.10/dist-packages (from Werkzeug<3.1->dash>=2.0.0->dash-bootstrap-components) (2.1.5)\n",
            "Requirement already satisfied: zipp>=0.5 in /usr/local/lib/python3.10/dist-packages (from importlib-metadata->dash>=2.0.0->dash-bootstrap-components) (3.17.0)\n",
            "Requirement already satisfied: charset-normalizer<4,>=2 in /usr/local/lib/python3.10/dist-packages (from requests->dash>=2.0.0->dash-bootstrap-components) (3.3.2)\n",
            "Requirement already satisfied: idna<4,>=2.5 in /usr/local/lib/python3.10/dist-packages (from requests->dash>=2.0.0->dash-bootstrap-components) (3.6)\n",
            "Requirement already satisfied: urllib3<3,>=1.21.1 in /usr/local/lib/python3.10/dist-packages (from requests->dash>=2.0.0->dash-bootstrap-components) (2.0.7)\n",
            "Requirement already satisfied: certifi>=2017.4.17 in /usr/local/lib/python3.10/dist-packages (from requests->dash>=2.0.0->dash-bootstrap-components) (2024.2.2)\n",
            "Requirement already satisfied: six>=1.7.0 in /usr/local/lib/python3.10/dist-packages (from retrying->dash>=2.0.0->dash-bootstrap-components) (1.16.0)\n",
            "Installing collected packages: dash-bootstrap-components\n",
            "Successfully installed dash-bootstrap-components-1.5.0\n",
            "Requirement already satisfied: dash-table in /usr/local/lib/python3.10/dist-packages (5.0.0)\n"
          ]
        }
      ]
    },
    {
      "cell_type": "code",
      "source": [
        "import pandas as pd\n",
        "import matplotlib.pyplot as plt\n",
        "import seaborn as sns\n",
        "import pandas as pd\n",
        "import numpy as np\n",
        "import matplotlib.pyplot as plt\n",
        "import seaborn as sns\n",
        "from scipy.stats import zscore\n",
        "from ucimlrepo import fetch_ucirepo\n",
        "from sklearn.preprocessing import LabelEncoder\n",
        "from sklearn.model_selection import train_test_split\n",
        "from scipy.stats import chi2_contingency\n",
        "from sklearn.feature_selection import f_classif\n",
        "from sklearn.datasets import load_iris\n",
        "from sklearn.model_selection import train_test_split\n",
        "from sklearn.neighbors import KNeighborsClassifier\n",
        "from sklearn.metrics import accuracy_score\n",
        "from sklearn.model_selection import KFold, cross_val_score\n",
        "from sklearn.metrics import roc_curve, roc_auc_score, confusion_matrix, precision_score, recall_score, accuracy_score,f1_score, classification_report\n",
        "\n",
        "\n"
      ],
      "metadata": {
        "id": "Whf0okHrJ5nj"
      },
      "execution_count": null,
      "outputs": []
    },
    {
      "cell_type": "markdown",
      "source": [
        "## **Making important functions`**\n",
        "\n",
        "\n"
      ],
      "metadata": {
        "id": "WAae_-jliCib"
      }
    },
    {
      "cell_type": "markdown",
      "source": [
        "1-Data Collection<br>\n",
        "2 Data Cleaning<br>\n",
        "3 Data Transformation<br>\n",
        "4 Exploratory Data Analysis<br>\n",
        "5 Detecting Outliers and Anomalies<br>\n",
        "6 Feature Engineering<br>\n",
        "7 Dimensionality Reduction<br>\n",
        "8 Manual Data Splitting and Cross Validation<br>\n",
        "9 Model Selection<br>\n",
        "10 Model Training<br>\n",
        "11-Model Evaluation<br>\n",
        "12 Master function<br>"
      ],
      "metadata": {
        "id": "hqEE31NZ9hgh"
      }
    },
    {
      "cell_type": "markdown",
      "source": [
        "###**1- Function for Data Collection:**\n",
        "Thisfunction will collect the data by giving the ID of data from the user interface.\n",
        "\n",
        "\n"
      ],
      "metadata": {
        "id": "U8qgvLMeAnmM"
      }
    },
    {
      "cell_type": "code",
      "source": [
        "def import_dataset(): #This function will import the dataset from Machine Learning Repository by using its id\n",
        "\n",
        "    data_sets = {\n",
        "        697: \"predict_students_dropout_and_academic_success\",\n",
        "        468: \"online_shoppers_purchasing_intention_dataset\",\n",
        "        45: \"Heart Disease\",\n",
        "        544: \"estimation_of_obesity_levels\",\n",
        "        144: \"credit_approval\"\n",
        "    }\n",
        "\n",
        "    print(\"Kindly provide the id of the ucirepo:\")\n",
        "    print(\"predict_students_dropout_and_academic_success = 697\")\n",
        "    print(\"online_shoppers_purchasing_intention_dataset = 468\")\n",
        "    print(\"Heart Disease=45\")\n",
        "    print('estimation_of_obesity_levels=544')\n",
        "    print('credit_approval_dataset=144')\n",
        "\n",
        "    data_id = int(input(\"Kindly input id of dataset:\"))\n",
        "\n",
        "    # Check if data_id exists in the dictionary\n",
        "    if data_id not in data_sets:\n",
        "        print(\"\\033[1;30;47m\" + \"Invalid dataset ID.\"+ \"\\033[m\")\n",
        "        return\n",
        "    #getting name of data set\n",
        "    data_set_name=data_sets[data_id]\n",
        "    # fetch dataset\n",
        "    data_set = fetch_ucirepo(id=data_id)\n",
        "    meta_data= data_set.metadata\n",
        "\n",
        "    # data (as pandas dataframes)\n",
        "    X = data_set.data.features\n",
        "    y = data_set.data.targets\n",
        "\n",
        "    data = pd.concat([X, y], axis=1)\n",
        "    data=pd.DataFrame(data)\n",
        "    rows,columns=data.shape\n",
        "    print(\"\\033[1;30;47m\" + \"You have selected to work with \" + str(data_set_name) +\" which has number of columns=\"+ str (columns)+ \" and number of rows=\"+str(rows)+\"\\033[m\")\n",
        "    return data\n"
      ],
      "metadata": {
        "id": "9Je9A6_fU4jq"
      },
      "execution_count": null,
      "outputs": []
    },
    {
      "cell_type": "markdown",
      "source": [
        "### **2- Function for Data Cleaning:**\n",
        "\n",
        "This function will deal with null values and duplicates by asking the user way to handle it."
      ],
      "metadata": {
        "id": "5G_AMR28EwcB"
      }
    },
    {
      "cell_type": "code",
      "source": [
        "def dealing_with_null(df): #This function will clean the dataset.\n",
        "\n",
        "\n",
        "    print(\"Observe above chart and decide What do you want to do with your null values\")\n",
        "    print(\"press 1 if you want to drop rows with null values\")\n",
        "    print('press 2 if you want to fill null values with mean')\n",
        "    print('press any key if there are no null values in data')\n",
        "    decision=input(\"Kindly mention your choice to deal with null values:\")\n",
        "    if decision=='1':\n",
        "\n",
        "       #Handling mising values\n",
        "       print(\"All the rows with null values have been dropped\")\n",
        "       df.dropna(inplace=True)\n",
        "       return(df)\n",
        "    elif decision=='2':\n",
        "       print(\"All the places with null values have been filled with mean of coulmns \")\n",
        "       means = df.mean()  # Calculate the mean of each column\n",
        "       df.fillna(value=means, inplace=True)  # Fill missing values with mean values\n",
        "       return(df)\n",
        "    elif decision!='1' or '2':\n",
        "       return(df)\n",
        "\n",
        "\n",
        "\n",
        "\n"
      ],
      "metadata": {
        "id": "uttfcrtWOjI8"
      },
      "execution_count": null,
      "outputs": []
    },
    {
      "cell_type": "code",
      "source": [
        "def dealing_with_duplicates(df): #This function will clean the dataset.\n",
        "    print(\"Number of duplicate rows in your data set:\",df.duplicated().sum())\n",
        "    print(\"All the duplicate rows have been deleted from data set\")\n",
        "\n",
        "    df.drop_duplicates(inplace=True)\n",
        "    return(df)\n",
        "\n",
        "\n",
        "\n",
        "\n",
        "\n"
      ],
      "metadata": {
        "id": "sVrbQ-j5dQsr"
      },
      "execution_count": null,
      "outputs": []
    },
    {
      "cell_type": "markdown",
      "source": [
        "### **3-Tranformations:**\n",
        "This function will perform the normalization on data.If categorical features are strings then function will convert it into numeric form and displays the dictionary of conversion.\n",
        "\n",
        "\n",
        "\n"
      ],
      "metadata": {
        "id": "mqS5VyWsjBHD"
      }
    },
    {
      "cell_type": "code",
      "source": [
        "\n",
        "def z_score_normalize(df):# Apply z-score normalization to specified numerical features but use with precaution if required\n",
        "    Numeric_features=df.select_dtypes(include='float64').columns\n",
        "    for feature in Numeric_features:\n",
        "        df[feature] = zscore(df[feature])\n",
        "    return df\n",
        "\n",
        "\n"
      ],
      "metadata": {
        "id": "DXkiOjkiE33c"
      },
      "execution_count": null,
      "outputs": []
    },
    {
      "cell_type": "code",
      "source": [
        "\n",
        "\n",
        "def plot_unique_values(df):\n",
        "    for col in df.columns:\n",
        "        if pd.api.types.is_numeric_dtype(df[col]):\n",
        "            continue  # Skip numerical columns\n",
        "        else:\n",
        "            plt.figure(figsize=(8, 6))\n",
        "            df[col].value_counts().plot(kind='bar', color='skyblue')\n",
        "            plt.title(f'Unique Values of {col}')\n",
        "            plt.xlabel('Values')\n",
        "            plt.ylabel('Count')\n",
        "            plt.show()\n",
        "\n",
        "\n",
        "\n",
        "\n",
        "\n",
        "def encode_numerical_features(df):\n",
        "    encoded_df = df.copy()\n",
        "    label_encoders = {}  # Dictionary to store label encoders for each categorical feature\n",
        "\n",
        "    categorical_features = df.select_dtypes(include='object').columns  # Extract column names\n",
        "\n",
        "    for feature in categorical_features:\n",
        "        if not pd.api.types.is_numeric_dtype(df[feature]):\n",
        "            # Perform label encoding for categorical variables\n",
        "            label_encoder = LabelEncoder()\n",
        "            encoded_df[feature] = label_encoder.fit_transform(encoded_df[feature])\n",
        "\n",
        "            # Store variable name along with category labels\n",
        "            label_encoders[feature] = {category: label for label, category in enumerate(label_encoder.classes_)}\n",
        "\n",
        "    # Print the label encoders\n",
        "    for feature, encoding_mapping in label_encoders.items():\n",
        "        print(f\"Encoding mapping for {feature}:\")\n",
        "        for category, label in encoding_mapping.items():\n",
        "            print(f\"  {category} -> {label}\")\n",
        "\n",
        "    return encoded_df\n",
        "\n",
        "\n"
      ],
      "metadata": {
        "id": "c-dMipMXI0hu"
      },
      "execution_count": null,
      "outputs": []
    },
    {
      "cell_type": "markdown",
      "source": [
        "### **6-Feature Selection:**\n",
        "Here we are using ChiSquare and Fstatistics test to select features manually, we will also drop features with high multi collinearity."
      ],
      "metadata": {
        "id": "HIl6HSDgia94"
      }
    },
    {
      "cell_type": "code",
      "source": [
        "def chisquare(X_train,y_train):\n",
        "    X_train_cat = X_train.select_dtypes(include = 'int64'or 'object').copy()\n",
        "    # define an empty dictionary to store chi-squared test results\n",
        "    chi2_check = {}\n",
        "\n",
        "    # loop over each column in the training set to calculate chi-statistic with the target variable\n",
        "    for column in X_train_cat:\n",
        "         chi, p, dof, ex = chi2_contingency(pd.crosstab(y_train, X_train_cat[column]))\n",
        "         chi2_check.setdefault('Feature',[]).append(column)\n",
        "         chi2_check.setdefault('p-value',[]).append(round(p, 10))\n",
        "\n",
        "    # convert the dictionary to a DF\n",
        "    chi2_result = pd.DataFrame(data = chi2_check)\n",
        "    chi2_result.sort_values(by = ['p-value'], ascending = True, ignore_index = True, inplace = True)\n",
        "    return chi2_result\n"
      ],
      "metadata": {
        "id": "ubt9X2a_Hv6x"
      },
      "execution_count": null,
      "outputs": []
    },
    {
      "cell_type": "code",
      "source": [
        "def FStatistics(X_train,y_train):\n",
        "   X_train_num = X_train.select_dtypes(include = 'float64').copy()\n",
        "   # Calculate F Statistic and corresponding p values\n",
        "   F_statistic, p_values = f_classif(X_train_num, y_train)\n",
        "   # convert to a DF\n",
        "   ANOVA_F_table = pd.DataFrame(data = {'Numerical_Feature': X_train_num.columns.values, 'F-Score': F_statistic, 'p values': p_values.round(decimals=10)})\n",
        "   ANOVA_F_table.sort_values(by = ['F-Score'], ascending = False, ignore_index = True, inplace = True)\n",
        "   return ANOVA_F_table"
      ],
      "metadata": {
        "id": "vn6RYnFkzndH"
      },
      "execution_count": null,
      "outputs": []
    },
    {
      "cell_type": "markdown",
      "source": [
        "### **7-Dimensionality Reduction:**"
      ],
      "metadata": {
        "id": "yYdv27vEjVqE"
      }
    },
    {
      "cell_type": "markdown",
      "source": [
        "### **8-Manual Data Splitting and Cross Validation:**\n",
        "\n",
        "This function will manually split the data into test and train and you can give splitting size.Here we are using KNN to find best value of k to give to the algo."
      ],
      "metadata": {
        "id": "Gtn6r2-sjhhJ"
      }
    },
    {
      "cell_type": "code",
      "source": [
        "def split_dataset(df,n=-1):# This function is assuming last coulmn is your label if its not then change value of n, test size is the split size of test data 0.2 is for 20%\n",
        "    X = df.drop(df.columns[n], axis=1)\n",
        "    y = df.iloc[:,n]\n",
        "    X_train, X_test, y_train, y_test = train_test_split(X, y, test_size = 0.2 , random_state = 42, stratify = y)\n",
        "    X_train, X_test = X_train.copy(), X_test.copy()\n",
        "    return X_train, X_test, y_train, y_test\n",
        "\n",
        "#Using cross validation for finding best value of k\n",
        "def cross_validation(df,n):\n",
        "    X = df.drop(df.columns[-1], axis=1)\n",
        "    y = df.iloc[:,-1]\n",
        "    k_values = [i for i in range (1,n)]\n",
        "    scores = []\n",
        "\n",
        "    for k in k_values:\n",
        "        knn = KNeighborsClassifier(n_neighbors=k)\n",
        "        score = cross_val_score(knn, X, y, cv=5)\n",
        "        scores.append(np.mean(score))\n",
        "\n",
        "    sns.lineplot(x = k_values, y = scores, marker = 'o')\n",
        "    plt.xlabel(\"K Values\")\n",
        "    plt.ylabel(\"Accuracy Score\")\n",
        "    plt.show()\n",
        "    return\n"
      ],
      "metadata": {
        "id": "8TqY-P-chZly"
      },
      "execution_count": null,
      "outputs": []
    },
    {
      "cell_type": "markdown",
      "source": [
        "### **9-Model Selection:**"
      ],
      "metadata": {
        "id": "ezD2s11Vj21A"
      }
    },
    {
      "cell_type": "markdown",
      "source": [
        "### **10-Model Training:**"
      ],
      "metadata": {
        "id": "At17CSAFjvoN"
      }
    },
    {
      "cell_type": "code",
      "source": [
        "def knn(X_train,y_train,X_test,k):\n",
        "  # Create a KNN classifier with k=3\n",
        "   knn = KNeighborsClassifier(n_neighbors=3)\n",
        "\n",
        "   # Train the classifier on the training data\n",
        "   knn.fit(X_train, y_train)\n",
        "\n",
        "   # Make predictions on the testing data\n",
        "   y_pred = knn.predict(X_test)\n",
        "\n",
        "   return y_pred\n",
        "\n",
        "\n"
      ],
      "metadata": {
        "id": "7trg55mXraBa"
      },
      "execution_count": null,
      "outputs": []
    },
    {
      "cell_type": "markdown",
      "source": [
        "##**MasterFunction:**\n",
        "To understand the terms in a better way we are running master function in apiece wise manner.\n",
        "\n"
      ],
      "metadata": {
        "id": "CtJ3h5koae-X"
      }
    },
    {
      "cell_type": "markdown",
      "source": [
        "\n",
        "\n",
        "\n",
        "## **<font color=\"green\">Step no 1:Observation of null values and data types</font>**\n"
      ],
      "metadata": {
        "id": "_TlQkdZUZ-2t"
      }
    },
    {
      "cell_type": "code",
      "source": [
        "data=import_dataset()\n",
        "types=data.dtypes\n",
        "null_counts = data.isnull().sum()\n",
        "data_details=pd.concat([null_counts,types],axis=1)\n",
        "data_details.columns=['null_counts','data_type']\n",
        "print(data_details)\n",
        "\n"
      ],
      "metadata": {
        "colab": {
          "base_uri": "https://localhost:8080/"
        },
        "id": "Ljv42EMpaimv",
        "outputId": "d56d2d9d-b092-4ad6-8b7e-3d779017e9a9"
      },
      "execution_count": null,
      "outputs": [
        {
          "output_type": "stream",
          "name": "stdout",
          "text": [
            "Kindly provide the id of the ucirepo:\n",
            "predict_students_dropout_and_academic_success = 697\n",
            "online_shoppers_purchasing_intention_dataset = 468\n",
            "Heart Disease=45\n",
            "estimation_of_obesity_levels=544\n",
            "credit_approval_dataset=144\n",
            "Kindly input id of dataset:45\n",
            "\u001b[1;30;47mYou have selected to work with Heart Disease which has number of columns=14 and number of rows=303\u001b[m\n",
            "          null_counts data_type\n",
            "age                 0     int64\n",
            "sex                 0     int64\n",
            "cp                  0     int64\n",
            "trestbps            0     int64\n",
            "chol                0     int64\n",
            "fbs                 0     int64\n",
            "restecg             0     int64\n",
            "thalach             0     int64\n",
            "exang               0     int64\n",
            "oldpeak             0   float64\n",
            "slope               0     int64\n",
            "ca                  4   float64\n",
            "thal                2   float64\n",
            "num                 0     int64\n"
          ]
        }
      ]
    },
    {
      "cell_type": "markdown",
      "source": [
        "## **<font color=\"green\">Step no 2:In this step we will do EDA and deal with null values and duplicates.</font>**\n",
        "\n"
      ],
      "metadata": {
        "id": "1EMGoiE3a_XO"
      }
    },
    {
      "cell_type": "code",
      "source": [
        "data1=dealing_with_null(data)\n",
        "data2=dealing_with_duplicates(data1)\n",
        "data3=encode_numerical_features(data2)\n"
      ],
      "metadata": {
        "id": "rt3ioO5Tua4P",
        "colab": {
          "base_uri": "https://localhost:8080/"
        },
        "outputId": "e06775b0-889c-4953-d666-b977e86bd0f2"
      },
      "execution_count": null,
      "outputs": [
        {
          "output_type": "stream",
          "name": "stdout",
          "text": [
            "Observe above chart and decide What do you want to do with your null values\n",
            "press 1 if you want to drop rows with null values\n",
            "press 2 if you want to fill null values with mean\n",
            "press any key if there are no null values in data\n",
            "Kindly mention your choice to deal with null values:1\n",
            "All the rows with null values have been dropped\n",
            "Number of duplicate rows in your data set: 0\n",
            "All the duplicate rows have been deleted from data set\n"
          ]
        }
      ]
    },
    {
      "cell_type": "markdown",
      "source": [
        "## **<font color=\"green\">Step no 3:Possible Options of feature Engineering, Cross validation and Classification report..</font>**\n",
        "\n"
      ],
      "metadata": {
        "id": "-V69Gr8covkK"
      }
    },
    {
      "cell_type": "code",
      "source": [
        "\n",
        "# Split dataset into train and test\n",
        "X_train, X_test, y_train, y_test = split_dataset(data3, n=-1)\n",
        "\n",
        "# Feature SX_trainelection\n",
        "print(\"ChiSquare Test Results\")\n",
        "chi2_result = chisquare(X_train, y_train)\n",
        "print(chi2_result)\n",
        "\n",
        "#print(\"FStatistic test result\")\n",
        "#fstat_result = FStatistics(X_train, y_train)\n",
        "#print(fstat_result)\n",
        "\n"
      ],
      "metadata": {
        "id": "OwiGqWwaeSWH",
        "colab": {
          "base_uri": "https://localhost:8080/"
        },
        "outputId": "cb0343db-902c-48c7-d86c-55a0a6c3c971"
      },
      "execution_count": null,
      "outputs": [
        {
          "output_type": "stream",
          "name": "stdout",
          "text": [
            "ChiSquare Test Results\n",
            "    Feature       p-value\n",
            "0        cp  9.000000e-09\n",
            "1     exang  2.560000e-08\n",
            "2     slope  1.234000e-07\n",
            "3       sex  2.937349e-03\n",
            "4   restecg  1.720243e-02\n",
            "5      chol  4.918285e-02\n",
            "6   thalach  8.029395e-02\n",
            "7  trestbps  8.491972e-02\n",
            "8       age  1.391925e-01\n",
            "9       fbs  1.745307e-01\n"
          ]
        }
      ]
    },
    {
      "cell_type": "markdown",
      "source": [
        "[link text](https://)## **Interpretation of Chisquare and FStatistics:**\n",
        "\n",
        "\n",
        "\n",
        "\n",
        "If Chisquare test is giving pvalue lesser than 0.05(for categorical variables) then it may be assumed that response and predictor variable has significant relationship.Here we can remove features with high pvalue.\n",
        "If FStatistic is giving higher F-Score and lower p values then this implies there is a signicant relationship between response and predictor variable.Here we can remove age and fbs."
      ],
      "metadata": {
        "id": "RdATE1_LnCA5"
      }
    },
    {
      "cell_type": "code",
      "source": [
        "# Model Training and Evaluation\n",
        "# Finding best value of k\n",
        "cross_validation(data3, 20)\n",
        "\n",
        "\n",
        "# Train and evaluate KNN model\n",
        "y_pred = knn(X_train, y_train, X_test, 15)\n"
      ],
      "metadata": {
        "id": "ncI0Dc9Eoruu",
        "colab": {
          "base_uri": "https://localhost:8080/",
          "height": 449
        },
        "outputId": "27b580dc-c057-41f4-b2bd-9cc0f46d55eb"
      },
      "execution_count": null,
      "outputs": [
        {
          "output_type": "display_data",
          "data": {
            "text/plain": [
              "<Figure size 640x480 with 1 Axes>"
            ],
            "image/png": "[encoded data removed]"
          },
          "metadata": {}
        }
      ]
    },
    {
      "cell_type": "markdown",
      "source": [
        "## **Interpretation of Chisquare and FStatistics:**\n",
        "\n",
        "\n",
        "\n",
        "\n",
        "If Chisquare test is giving pvalue lesser than 0.05(for categorical variables) then it may be assumed that response and predictor variable has significant relationship.Here we can remove features with high pvalue.\n",
        "If FStatistic is giving higher F-Score and lower p values then this implies there is a signicant relationship between response and predictor variable.Here we can remove age and fbs.\n",
        "\n",
        "## **Interpretation of results:**\n",
        "This was a multi class classification problem with 5 class labels but the KNN algorithm is not working well on this without feature selection. We tried the normalization factor as well but its not improving the accuracy.By observation of graph we are taking k=15."
      ],
      "metadata": {
        "id": "2oPBv-knnlD-"
      }
    },
    {
      "cell_type": "markdown",
      "source": [
        "###**4-Exploratory Data Analysis:**\n",
        "This function will show the five numer summary of numeric features.<br>\n",
        "It displays histogram of each numerical variable.<br>\n",
        "It displays box plot for each numerical feature.<br>\n",
        "It displays correlation matrix between numerical features.<br>\n",
        "### **5-Detecting Ouliers and Anomalies:**\n",
        "Outliers have already been detected by boxplots but right now we are leaving their handling case.\n",
        "### **11-Model Evaluation:**\n",
        "Model evaluation function is different according to binary classification and multi class classification.\n"
      ],
      "metadata": {
        "id": "x18FPsSbq2W1"
      }
    },
    {
      "cell_type": "code",
      "source": [
        "import dash\n",
        "import dash_html_components as html\n",
        "import dash_core_components as dcc\n",
        "import plotly.express as px\n",
        "import plotly.graph_objects as go\n",
        "import dash_table\n",
        "import pandas as pd\n",
        "import numpy as np\n",
        "from dash.dependencies import Input, Output\n",
        "from sklearn.metrics import confusion_matrix, classification_report, precision_score, recall_score, f1_score\n",
        "\n",
        "# Function for EDA Dashboard\n",
        "def eda(data2):\n",
        "    # Summary statistics\n",
        "    summary_stats = data2.describe()\n",
        "\n",
        "    # Histograms for each numerical variable\n",
        "    histograms = []\n",
        "    for column in data2.select_dtypes(include=np.number):\n",
        "        histogram = px.histogram(data2, x=column, title=f'Histogram of {column}', color_discrete_sequence=['maroon'], width=400, height=300)\n",
        "        histograms.append(dcc.Graph(figure=histogram))\n",
        "\n",
        "    # Box plots for each numerical variable\n",
        "    box_plots = []\n",
        "    for column in data2.select_dtypes(include=np.number):\n",
        "        box_plot = px.box(data2, y=column, title=f'Boxplot of {column}', color_discrete_sequence=['maroon'], width=400, height=300)\n",
        "        box_plots.append(dcc.Graph(figure=box_plot))\n",
        "\n",
        "    # Correlation matrix\n",
        "    corr_matrix = go.Figure(data=go.Heatmap(z=data2.corr(), x=data2.columns, y=data2.columns, colorscale='RdBu'))\n",
        "    corr_matrix.update_layout(title='Correlation Matrix', plot_bgcolor='#f8f8f8', width=800, height=600)\n",
        "\n",
        "    return html.Div(style={'backgroundColor': '#FFFFFF', 'color': 'maroon', 'padding': '20px'}, children=[\n",
        "        html.H1(\"Exploratory Data Analysis\", style={'textAlign': 'center'}),\n",
        "        html.Div([\n",
        "            html.Div([\n",
        "                html.H2(\"Summary Statistics\", style={'color': 'maroon', 'textAlign': 'center'}),\n",
        "                dcc.Markdown(summary_stats.to_markdown())\n",
        "            ], style={'margin': '10px', 'textAlign': 'center'}),\n",
        "            html.Div([\n",
        "                html.H2(\"Histograms\", style={'color': 'maroon', 'textAlign': 'center'}),\n",
        "                html.Div(histograms, style={'display': 'flex', 'flexWrap': 'wrap', 'justifyContent': 'center', 'alignItems': 'center'})\n",
        "            ], style={'margin': '10px', 'textAlign': 'center'}),\n",
        "            html.Div([\n",
        "                html.H2(\"Box Plots\", style={'color': 'maroon', 'textAlign': 'center'}),\n",
        "                html.Div(box_plots, style={'display': 'flex', 'flexWrap': 'wrap', 'justifyContent': 'center', 'alignItems': 'center'})\n",
        "            ], style={'margin': '10px', 'textAlign': 'center'})\n",
        "        ]),\n",
        "        html.Div([\n",
        "            html.H2(\"Correlation Matrix\", style={'color': 'maroon', 'textAlign': 'center'}),\n",
        "            dcc.Graph(figure=corr_matrix, style={'backgroundColor': '#f8f8f8'})\n",
        "        ], style={'margin': '10px', 'textAlign': 'center'})\n",
        "    ])\n",
        "\n",
        "\n",
        "# Function for Classification Evaluation Dashboard\n",
        "def evaluate_classification(y_test, y_pred):\n",
        "    # Compute confusion matrix\n",
        "    cm = confusion_matrix(y_test, y_pred)\n",
        "\n",
        "    # Compute precision, recall, and F1 score\n",
        "    precision = precision_score(y_test, y_pred, average='weighted')\n",
        "    recall = recall_score(y_test, y_pred, average='weighted')\n",
        "    f1 = f1_score(y_test, y_pred, average='weighted')\n",
        "\n",
        "    # Compute accuracy\n",
        "    accuracy = accuracy_score(y_test, y_pred)\n",
        "\n",
        "    # Generate classification report\n",
        "    report = classification_report(y_test, y_pred, output_dict=True)\n",
        "    report_df = pd.DataFrame(report).transpose().reset_index()\n",
        "\n",
        "    # Create the dashboard\n",
        "    return html.Div(style={'backgroundColor': '#FFFFFF', 'color': 'maroon', 'padding': '20px'}, children=[\n",
        "        html.Div(\n",
        "            children='Classification Evaluation',\n",
        "            style={'textAlign': 'center', 'fontWeight': 'bold'}\n",
        "        ),\n",
        "\n",
        "        html.Div(children=f'Accuracy: {accuracy:.2f}', style={'textAlign': 'center'}),\n",
        "        html.Div(children=f'Precision: {precision:.2f}', style={'textAlign': 'center'}),\n",
        "        html.Div(children=f'Recall: {recall:.2f}', style={'textAlign': 'center'}),\n",
        "        html.Div(children=f'F1 Score: {f1:.2f}', style={'textAlign': 'center'}),\n",
        "\n",
        "        html.Div(children='Confusion Matrix:', style={'textAlign': 'center', 'fontWeight': 'bold', 'marginBottom': '10px'}),\n",
        "\n",
        "        dash_table.DataTable(\n",
        "            id='confusion-matrix-table',\n",
        "            columns=[{'name': '', 'id': 'index'}] + [{'name': col, 'id': col} for col in ['Predicted True', 'Predicted False']],\n",
        "            data=[{'index': 'Actual True', 'Predicted True': cm[0][0], 'Predicted False': cm[0][1]},\n",
        "                  {'index': 'Actual False', 'Predicted True': cm[1][0], 'Predicted False': cm[1][1]}],\n",
        "            style_header={'backgroundColor': 'maroon', 'color': 'white', 'fontWeight': 'bold'},\n",
        "            style_cell={'textAlign': 'center'}\n",
        "        ),\n",
        "\n",
        "        html.Div(children='Classification Report:', style={'textAlign': 'center', 'fontWeight': 'bold', 'marginTop': '10px'}),\n",
        "\n",
        "        dcc.Graph(\n",
        "            id='classification-report',\n",
        "            figure={\n",
        "                'data': [\n",
        "                    go.Table(\n",
        "                        header=dict(values=report_df.columns),\n",
        "                        cells=dict(values=[report_df[col] for col in report_df.columns])\n",
        "                    )\n",
        "                ],\n",
        "                'layout': {\n",
        "                    'margin': {'l': 0, 'r': 0, 't': 0, 'b': 0}\n",
        "                }\n",
        "            }\n",
        "        )\n",
        "    ])\n",
        "\n",
        "# Example usage:\n",
        "# Combine both functionalities into a single dashboard\n",
        "# Assuming df, y_test, and y_pred are already defined\n",
        "app_combined = dash.Dash(__name__)\n",
        "\n",
        "# Define app layout\n",
        "app_combined.layout = html.Div(style={'backgroundColor': '#FFFFFF', 'padding': '20px'}, children=[\n",
        "    html.Div(eda(data2), style={'width': '100%', 'textAlign': 'center'}),\n",
        "    html.Div(evaluate_classification(y_test, y_pred), style={'width': '100%', 'textAlign': 'center'})\n",
        "])\n",
        "\n",
        "# Run the app\n",
        "if __name__ == '__main__':\n",
        "    app_combined.run_server(debug=True)\n"
      ],
      "metadata": {
        "id": "B3xbMOM4QzdM",
        "colab": {
          "base_uri": "https://localhost:8080/",
          "height": 1227
        },
        "outputId": "1741ba82-9866-4ff5-9f81-7a71b721c878"
      },
      "execution_count": null,
      "outputs": [
        {
          "output_type": "stream",
          "name": "stderr",
          "text": [
            "<ipython-input-16-fe140b1fc5d9>:2: UserWarning: \n",
            "The dash_html_components package is deprecated. Please replace\n",
            "`import dash_html_components as html` with `from dash import html`\n",
            "  import dash_html_components as html\n",
            "<ipython-input-16-fe140b1fc5d9>:3: UserWarning: \n",
            "The dash_core_components package is deprecated. Please replace\n",
            "`import dash_core_components as dcc` with `from dash import dcc`\n",
            "  import dash_core_components as dcc\n",
            "<ipython-input-16-fe140b1fc5d9>:6: UserWarning: \n",
            "The dash_table package is deprecated. Please replace\n",
            "`import dash_table` with `from dash import dash_table`\n",
            "\n",
            "Also, if you're using any of the table format helpers (e.g. Group), replace \n",
            "`from dash_table.Format import Group` with \n",
            "`from dash.dash_table.Format import Group`\n",
            "  import dash_table\n",
            "/usr/local/lib/python3.10/dist-packages/sklearn/metrics/_classification.py:1344: UndefinedMetricWarning:\n",
            "\n",
            "Precision is ill-defined and being set to 0.0 in labels with no predicted samples. Use `zero_division` parameter to control this behavior.\n",
            "\n",
            "/usr/local/lib/python3.10/dist-packages/sklearn/metrics/_classification.py:1344: UndefinedMetricWarning:\n",
            "\n",
            "Precision and F-score are ill-defined and being set to 0.0 in labels with no predicted samples. Use `zero_division` parameter to control this behavior.\n",
            "\n",
            "/usr/local/lib/python3.10/dist-packages/sklearn/metrics/_classification.py:1344: UndefinedMetricWarning:\n",
            "\n",
            "Precision and F-score are ill-defined and being set to 0.0 in labels with no predicted samples. Use `zero_division` parameter to control this behavior.\n",
            "\n",
            "/usr/local/lib/python3.10/dist-packages/sklearn/metrics/_classification.py:1344: UndefinedMetricWarning:\n",
            "\n",
            "Precision and F-score are ill-defined and being set to 0.0 in labels with no predicted samples. Use `zero_division` parameter to control this behavior.\n",
            "\n"
          ]
        },
        {
          "output_type": "display_data",
          "data": {
            "text/plain": [
              "<IPython.core.display.Javascript object>"
            ],
            "application/javascript": [
              "(async (port, path, width, height, cache, element) => {\n",
              "    if (!google.colab.kernel.accessAllowed && !cache) {\n",
              "      return;\n",
              "    }\n",
              "    element.appendChild(document.createTextNode(''));\n",
              "    const url = await google.colab.kernel.proxyPort(port, {cache});\n",
              "    const iframe = document.createElement('iframe');\n",
              "    iframe.src = new URL(path, url).toString();\n",
              "    iframe.height = height;\n",
              "    iframe.width = width;\n",
              "    iframe.style.border = 0;\n",
              "    iframe.allow = [\n",
              "        'accelerometer',\n",
              "        'autoplay',\n",
              "        'camera',\n",
              "        'clipboard-read',\n",
              "        'clipboard-write',\n",
              "        'gyroscope',\n",
              "        'magnetometer',\n",
              "        'microphone',\n",
              "        'serial',\n",
              "        'usb',\n",
              "        'xr-spatial-tracking',\n",
              "    ].join('; ');\n",
              "    element.appendChild(iframe);\n",
              "  })(8050, \"/\", \"100%\", 650, false, window.element)"
            ]
          },
          "metadata": {}
        }
      ]
    },
    {
      "cell_type": "markdown",
      "source": [
        "# **<font color=\"red\">EDA Summary Report</font>**\n",
        "\n",
        "\n",
        "\n",
        "##**Interpretation of Box Plot**\n",
        "\n",
        "Very few outliers in this data set.\n",
        "\n",
        "\n",
        "##**Interpretation of multicollinearity**\n",
        " There is a high multicollinearity between Thalach variable and some other variables, it would be better to remove it.\n",
        "\n",
        "# **<font color=\"red\">Evaluation Report</font>**\n",
        "\n",
        "\n",
        "\n",
        "## **Interpretation of results:**\n",
        "This was a multi class classification problem with 5 class labels but the KNN algorithm is not working well on this without feature selection. We tried the normalization factor as well but its not improving the accuracy.By observation of graph we are taking k=15."
      ],
      "metadata": {
        "id": "HKl8kQNxu_Of"
      }
    }
  ]
}